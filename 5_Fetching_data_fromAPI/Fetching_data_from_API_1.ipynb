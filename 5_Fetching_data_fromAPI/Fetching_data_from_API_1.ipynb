{
 "cells": [
  {
   "cell_type": "code",
   "execution_count": 2,
   "id": "03919cd5-4a0c-4f88-a489-51e3bb54432b",
   "metadata": {},
   "outputs": [],
   "source": [
    "import pandas as pd\n",
    "import requests"
   ]
  },
  {
   "cell_type": "code",
   "execution_count": null,
   "id": "56dfe85b-f01a-45e4-8dca-305f6c92d4ac",
   "metadata": {},
   "outputs": [],
   "source": [
    "url = \"https://api.themoviedb.org/3/person/popular?language=en-US&page=1\"\n",
    "\n",
    "headers = {\n",
    "    \"accept\": \"application/json\",\n",
    "    \"Authorization\": \"Bearer YOUR_TOKEN_HERE\"\n",
    "}\n",
    "\n",
    "response = requests.get(url, headers=headers)\n",
    "\n",
    "data_stored = response.json()"
   ]
  },
  {
   "cell_type": "code",
   "execution_count": null,
   "id": "a287049d-aa20-4030-b9e1-af07187bcf1d",
   "metadata": {},
   "outputs": [],
   "source": [
    "df = pd.DataFrame(data_stored['results'])\n",
    "df"
   ]
  },
  {
   "cell_type": "code",
   "execution_count": 24,
   "id": "b7aab295-960c-44bb-9a2c-d068e8956218",
   "metadata": {},
   "outputs": [],
   "source": [
    "df.to_csv('tmdb_popular_people.csv', index=False)"
   ]
  }
 ],
 "metadata": {
  "kernelspec": {
   "display_name": "Python (python_env)",
   "language": "python",
   "name": "python_env"
  },
  "language_info": {
   "codemirror_mode": {
    "name": "ipython",
    "version": 3
   },
   "file_extension": ".py",
   "mimetype": "text/x-python",
   "name": "python",
   "nbconvert_exporter": "python",
   "pygments_lexer": "ipython3",
   "version": "3.10.16"
  }
 },
 "nbformat": 4,
 "nbformat_minor": 5
}
