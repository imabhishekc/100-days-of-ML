{
 "cells": [
  {
   "cell_type": "markdown",
   "id": "ba0bb397-3843-487a-b48a-8cf92dd7472c",
   "metadata": {},
   "source": [
    "# Understanding data using University Students datasets"
   ]
  },
  {
   "cell_type": "code",
   "execution_count": 7,
   "id": "50567d6f-842b-423c-b350-ff818172063c",
   "metadata": {},
   "outputs": [],
   "source": [
    "import pandas as pd"
   ]
  },
  {
   "cell_type": "code",
   "execution_count": 8,
   "id": "26829f6d-0d5c-4480-8f2b-8adfaed9a6fa",
   "metadata": {},
   "outputs": [],
   "source": [
    "df = pd.read_csv('college_student_placement_dataset.csv')"
   ]
  },
  {
   "cell_type": "markdown",
   "id": "80bc6af7-85e5-45dd-a78d-31660840883b",
   "metadata": {},
   "source": [
    "## 1. How big is the data?"
   ]
  },
  {
   "cell_type": "code",
   "execution_count": 9,
   "id": "41f870f7-e6cb-4812-b293-21ab73b03ae8",
   "metadata": {},
   "outputs": [
    {
     "data": {
      "text/plain": [
       "(10000, 10)"
      ]
     },
     "execution_count": 9,
     "metadata": {},
     "output_type": "execute_result"
    }
   ],
   "source": [
    "df.shape"
   ]
  },
  {
   "cell_type": "markdown",
   "id": "26f7e364-e2af-46ca-9eeb-e50af9629979",
   "metadata": {},
   "source": [
    "## 2. How does the data look like?"
   ]
  },
  {
   "cell_type": "code",
   "execution_count": 11,
   "id": "48752f8c-b4f7-4a88-a8e0-85ab44903f87",
   "metadata": {},
   "outputs": [
    {
     "data": {
      "text/html": [
       "<div>\n",
       "<style scoped>\n",
       "    .dataframe tbody tr th:only-of-type {\n",
       "        vertical-align: middle;\n",
       "    }\n",
       "\n",
       "    .dataframe tbody tr th {\n",
       "        vertical-align: top;\n",
       "    }\n",
       "\n",
       "    .dataframe thead th {\n",
       "        text-align: right;\n",
       "    }\n",
       "</style>\n",
       "<table border=\"1\" class=\"dataframe\">\n",
       "  <thead>\n",
       "    <tr style=\"text-align: right;\">\n",
       "      <th></th>\n",
       "      <th>College_ID</th>\n",
       "      <th>IQ</th>\n",
       "      <th>Prev_Sem_Result</th>\n",
       "      <th>CGPA</th>\n",
       "      <th>Academic_Performance</th>\n",
       "      <th>Internship_Experience</th>\n",
       "      <th>Extra_Curricular_Score</th>\n",
       "      <th>Communication_Skills</th>\n",
       "      <th>Projects_Completed</th>\n",
       "      <th>Placement</th>\n",
       "    </tr>\n",
       "  </thead>\n",
       "  <tbody>\n",
       "    <tr>\n",
       "      <th>4628</th>\n",
       "      <td>CLG0002</td>\n",
       "      <td>116</td>\n",
       "      <td>9.38</td>\n",
       "      <td>9.59</td>\n",
       "      <td>6</td>\n",
       "      <td>No</td>\n",
       "      <td>9</td>\n",
       "      <td>3</td>\n",
       "      <td>0</td>\n",
       "      <td>No</td>\n",
       "    </tr>\n",
       "    <tr>\n",
       "      <th>9286</th>\n",
       "      <td>CLG0004</td>\n",
       "      <td>106</td>\n",
       "      <td>7.91</td>\n",
       "      <td>7.73</td>\n",
       "      <td>10</td>\n",
       "      <td>Yes</td>\n",
       "      <td>1</td>\n",
       "      <td>7</td>\n",
       "      <td>0</td>\n",
       "      <td>No</td>\n",
       "    </tr>\n",
       "    <tr>\n",
       "      <th>1767</th>\n",
       "      <td>CLG0067</td>\n",
       "      <td>97</td>\n",
       "      <td>6.77</td>\n",
       "      <td>6.37</td>\n",
       "      <td>10</td>\n",
       "      <td>No</td>\n",
       "      <td>3</td>\n",
       "      <td>2</td>\n",
       "      <td>5</td>\n",
       "      <td>No</td>\n",
       "    </tr>\n",
       "    <tr>\n",
       "      <th>5465</th>\n",
       "      <td>CLG0083</td>\n",
       "      <td>99</td>\n",
       "      <td>7.52</td>\n",
       "      <td>8.02</td>\n",
       "      <td>4</td>\n",
       "      <td>Yes</td>\n",
       "      <td>8</td>\n",
       "      <td>7</td>\n",
       "      <td>4</td>\n",
       "      <td>No</td>\n",
       "    </tr>\n",
       "    <tr>\n",
       "      <th>217</th>\n",
       "      <td>CLG0067</td>\n",
       "      <td>96</td>\n",
       "      <td>5.42</td>\n",
       "      <td>5.70</td>\n",
       "      <td>4</td>\n",
       "      <td>No</td>\n",
       "      <td>4</td>\n",
       "      <td>9</td>\n",
       "      <td>4</td>\n",
       "      <td>No</td>\n",
       "    </tr>\n",
       "  </tbody>\n",
       "</table>\n",
       "</div>"
      ],
      "text/plain": [
       "     College_ID   IQ  Prev_Sem_Result  CGPA  Academic_Performance  \\\n",
       "4628    CLG0002  116             9.38  9.59                     6   \n",
       "9286    CLG0004  106             7.91  7.73                    10   \n",
       "1767    CLG0067   97             6.77  6.37                    10   \n",
       "5465    CLG0083   99             7.52  8.02                     4   \n",
       "217     CLG0067   96             5.42  5.70                     4   \n",
       "\n",
       "     Internship_Experience  Extra_Curricular_Score  Communication_Skills  \\\n",
       "4628                    No                       9                     3   \n",
       "9286                   Yes                       1                     7   \n",
       "1767                    No                       3                     2   \n",
       "5465                   Yes                       8                     7   \n",
       "217                     No                       4                     9   \n",
       "\n",
       "      Projects_Completed Placement  \n",
       "4628                   0        No  \n",
       "9286                   0        No  \n",
       "1767                   5        No  \n",
       "5465                   4        No  \n",
       "217                    4        No  "
      ]
     },
     "execution_count": 11,
     "metadata": {},
     "output_type": "execute_result"
    }
   ],
   "source": [
    "df.sample(5)"
   ]
  },
  {
   "cell_type": "markdown",
   "id": "10e28577-533e-4fe1-8b90-3097df44279a",
   "metadata": {},
   "source": [
    "## 3. What is the data type of cols?"
   ]
  },
  {
   "cell_type": "code",
   "execution_count": 12,
   "id": "4bd600b5-42ee-4e28-9c8c-293df1ec013f",
   "metadata": {},
   "outputs": [
    {
     "name": "stdout",
     "output_type": "stream",
     "text": [
      "<class 'pandas.core.frame.DataFrame'>\n",
      "RangeIndex: 10000 entries, 0 to 9999\n",
      "Data columns (total 10 columns):\n",
      " #   Column                  Non-Null Count  Dtype  \n",
      "---  ------                  --------------  -----  \n",
      " 0   College_ID              10000 non-null  object \n",
      " 1   IQ                      10000 non-null  int64  \n",
      " 2   Prev_Sem_Result         10000 non-null  float64\n",
      " 3   CGPA                    10000 non-null  float64\n",
      " 4   Academic_Performance    10000 non-null  int64  \n",
      " 5   Internship_Experience   10000 non-null  object \n",
      " 6   Extra_Curricular_Score  10000 non-null  int64  \n",
      " 7   Communication_Skills    10000 non-null  int64  \n",
      " 8   Projects_Completed      10000 non-null  int64  \n",
      " 9   Placement               10000 non-null  object \n",
      "dtypes: float64(2), int64(5), object(3)\n",
      "memory usage: 781.4+ KB\n"
     ]
    }
   ],
   "source": [
    "df.info()"
   ]
  },
  {
   "cell_type": "markdown",
   "id": "285f28dd-f911-43e3-87a0-a2a686d2cd68",
   "metadata": {},
   "source": [
    "## 4. Are there any missing values?"
   ]
  },
  {
   "cell_type": "code",
   "execution_count": 16,
   "id": "ca7fef18-8b9f-4018-88b3-b6227d3ad96b",
   "metadata": {},
   "outputs": [
    {
     "data": {
      "text/plain": [
       "College_ID                0\n",
       "IQ                        0\n",
       "Prev_Sem_Result           0\n",
       "CGPA                      0\n",
       "Academic_Performance      0\n",
       "Internship_Experience     0\n",
       "Extra_Curricular_Score    0\n",
       "Communication_Skills      0\n",
       "Projects_Completed        0\n",
       "Placement                 0\n",
       "dtype: int64"
      ]
     },
     "execution_count": 16,
     "metadata": {},
     "output_type": "execute_result"
    }
   ],
   "source": [
    "df.isnull().sum()"
   ]
  },
  {
   "cell_type": "markdown",
   "id": "7ae68b8b-f79d-4ab4-8d9b-76e64a4513d2",
   "metadata": {},
   "source": [
    "## 5. How does the data look matematically?"
   ]
  },
  {
   "cell_type": "code",
   "execution_count": 18,
   "id": "d51c6cc9-503f-4095-a8c6-395a00f70875",
   "metadata": {},
   "outputs": [
    {
     "data": {
      "text/html": [
       "<div>\n",
       "<style scoped>\n",
       "    .dataframe tbody tr th:only-of-type {\n",
       "        vertical-align: middle;\n",
       "    }\n",
       "\n",
       "    .dataframe tbody tr th {\n",
       "        vertical-align: top;\n",
       "    }\n",
       "\n",
       "    .dataframe thead th {\n",
       "        text-align: right;\n",
       "    }\n",
       "</style>\n",
       "<table border=\"1\" class=\"dataframe\">\n",
       "  <thead>\n",
       "    <tr style=\"text-align: right;\">\n",
       "      <th></th>\n",
       "      <th>IQ</th>\n",
       "      <th>Prev_Sem_Result</th>\n",
       "      <th>CGPA</th>\n",
       "      <th>Academic_Performance</th>\n",
       "      <th>Extra_Curricular_Score</th>\n",
       "      <th>Communication_Skills</th>\n",
       "      <th>Projects_Completed</th>\n",
       "    </tr>\n",
       "  </thead>\n",
       "  <tbody>\n",
       "    <tr>\n",
       "      <th>count</th>\n",
       "      <td>10000.000000</td>\n",
       "      <td>10000.000000</td>\n",
       "      <td>10000.000000</td>\n",
       "      <td>10000.000000</td>\n",
       "      <td>10000.000000</td>\n",
       "      <td>10000.000000</td>\n",
       "      <td>10000.000000</td>\n",
       "    </tr>\n",
       "    <tr>\n",
       "      <th>mean</th>\n",
       "      <td>99.471800</td>\n",
       "      <td>7.535673</td>\n",
       "      <td>7.532379</td>\n",
       "      <td>5.546400</td>\n",
       "      <td>4.970900</td>\n",
       "      <td>5.561800</td>\n",
       "      <td>2.513400</td>\n",
       "    </tr>\n",
       "    <tr>\n",
       "      <th>std</th>\n",
       "      <td>15.053101</td>\n",
       "      <td>1.447519</td>\n",
       "      <td>1.470141</td>\n",
       "      <td>2.873477</td>\n",
       "      <td>3.160103</td>\n",
       "      <td>2.900866</td>\n",
       "      <td>1.715959</td>\n",
       "    </tr>\n",
       "    <tr>\n",
       "      <th>min</th>\n",
       "      <td>41.000000</td>\n",
       "      <td>5.000000</td>\n",
       "      <td>4.540000</td>\n",
       "      <td>1.000000</td>\n",
       "      <td>0.000000</td>\n",
       "      <td>1.000000</td>\n",
       "      <td>0.000000</td>\n",
       "    </tr>\n",
       "    <tr>\n",
       "      <th>25%</th>\n",
       "      <td>89.000000</td>\n",
       "      <td>6.290000</td>\n",
       "      <td>6.290000</td>\n",
       "      <td>3.000000</td>\n",
       "      <td>2.000000</td>\n",
       "      <td>3.000000</td>\n",
       "      <td>1.000000</td>\n",
       "    </tr>\n",
       "    <tr>\n",
       "      <th>50%</th>\n",
       "      <td>99.000000</td>\n",
       "      <td>7.560000</td>\n",
       "      <td>7.550000</td>\n",
       "      <td>6.000000</td>\n",
       "      <td>5.000000</td>\n",
       "      <td>6.000000</td>\n",
       "      <td>3.000000</td>\n",
       "    </tr>\n",
       "    <tr>\n",
       "      <th>75%</th>\n",
       "      <td>110.000000</td>\n",
       "      <td>8.790000</td>\n",
       "      <td>8.770000</td>\n",
       "      <td>8.000000</td>\n",
       "      <td>8.000000</td>\n",
       "      <td>8.000000</td>\n",
       "      <td>4.000000</td>\n",
       "    </tr>\n",
       "    <tr>\n",
       "      <th>max</th>\n",
       "      <td>158.000000</td>\n",
       "      <td>10.000000</td>\n",
       "      <td>10.460000</td>\n",
       "      <td>10.000000</td>\n",
       "      <td>10.000000</td>\n",
       "      <td>10.000000</td>\n",
       "      <td>5.000000</td>\n",
       "    </tr>\n",
       "  </tbody>\n",
       "</table>\n",
       "</div>"
      ],
      "text/plain": [
       "                 IQ  Prev_Sem_Result          CGPA  Academic_Performance  \\\n",
       "count  10000.000000     10000.000000  10000.000000          10000.000000   \n",
       "mean      99.471800         7.535673      7.532379              5.546400   \n",
       "std       15.053101         1.447519      1.470141              2.873477   \n",
       "min       41.000000         5.000000      4.540000              1.000000   \n",
       "25%       89.000000         6.290000      6.290000              3.000000   \n",
       "50%       99.000000         7.560000      7.550000              6.000000   \n",
       "75%      110.000000         8.790000      8.770000              8.000000   \n",
       "max      158.000000        10.000000     10.460000             10.000000   \n",
       "\n",
       "       Extra_Curricular_Score  Communication_Skills  Projects_Completed  \n",
       "count            10000.000000          10000.000000        10000.000000  \n",
       "mean                 4.970900              5.561800            2.513400  \n",
       "std                  3.160103              2.900866            1.715959  \n",
       "min                  0.000000              1.000000            0.000000  \n",
       "25%                  2.000000              3.000000            1.000000  \n",
       "50%                  5.000000              6.000000            3.000000  \n",
       "75%                  8.000000              8.000000            4.000000  \n",
       "max                 10.000000             10.000000            5.000000  "
      ]
     },
     "execution_count": 18,
     "metadata": {},
     "output_type": "execute_result"
    }
   ],
   "source": [
    "df.describe()"
   ]
  },
  {
   "cell_type": "markdown",
   "id": "cb1b373a-6767-437f-b5c6-c12efca9dc3d",
   "metadata": {},
   "source": [
    "## 6. Are there duplicate values?"
   ]
  },
  {
   "cell_type": "code",
   "execution_count": 19,
   "id": "5c0d14d4-5f29-4a70-b168-69cff603bce3",
   "metadata": {},
   "outputs": [
    {
     "data": {
      "text/plain": [
       "np.int64(0)"
      ]
     },
     "execution_count": 19,
     "metadata": {},
     "output_type": "execute_result"
    }
   ],
   "source": [
    "df.duplicated().sum()"
   ]
  },
  {
   "cell_type": "markdown",
   "id": "753d5202-89f7-4b11-9c7a-2f5fbfae9729",
   "metadata": {},
   "source": [
    "## 7. How is the correlation between cols?"
   ]
  },
  {
   "cell_type": "code",
   "execution_count": 21,
   "id": "6cb540dc-28c1-48bb-bfb1-f13e80357c1d",
   "metadata": {},
   "outputs": [
    {
     "data": {
      "text/html": [
       "<div>\n",
       "<style scoped>\n",
       "    .dataframe tbody tr th:only-of-type {\n",
       "        vertical-align: middle;\n",
       "    }\n",
       "\n",
       "    .dataframe tbody tr th {\n",
       "        vertical-align: top;\n",
       "    }\n",
       "\n",
       "    .dataframe thead th {\n",
       "        text-align: right;\n",
       "    }\n",
       "</style>\n",
       "<table border=\"1\" class=\"dataframe\">\n",
       "  <thead>\n",
       "    <tr style=\"text-align: right;\">\n",
       "      <th></th>\n",
       "      <th>IQ</th>\n",
       "      <th>Prev_Sem_Result</th>\n",
       "      <th>CGPA</th>\n",
       "      <th>Academic_Performance</th>\n",
       "      <th>Extra_Curricular_Score</th>\n",
       "      <th>Communication_Skills</th>\n",
       "      <th>Projects_Completed</th>\n",
       "    </tr>\n",
       "  </thead>\n",
       "  <tbody>\n",
       "    <tr>\n",
       "      <th>IQ</th>\n",
       "      <td>1.000000</td>\n",
       "      <td>-0.002640</td>\n",
       "      <td>-0.002859</td>\n",
       "      <td>-0.006827</td>\n",
       "      <td>-0.003458</td>\n",
       "      <td>-0.010896</td>\n",
       "      <td>0.014538</td>\n",
       "    </tr>\n",
       "    <tr>\n",
       "      <th>Prev_Sem_Result</th>\n",
       "      <td>-0.002640</td>\n",
       "      <td>1.000000</td>\n",
       "      <td>0.980768</td>\n",
       "      <td>-0.005765</td>\n",
       "      <td>0.009326</td>\n",
       "      <td>-0.017269</td>\n",
       "      <td>0.018434</td>\n",
       "    </tr>\n",
       "    <tr>\n",
       "      <th>CGPA</th>\n",
       "      <td>-0.002859</td>\n",
       "      <td>0.980768</td>\n",
       "      <td>1.000000</td>\n",
       "      <td>-0.002958</td>\n",
       "      <td>0.011441</td>\n",
       "      <td>-0.018242</td>\n",
       "      <td>0.020872</td>\n",
       "    </tr>\n",
       "    <tr>\n",
       "      <th>Academic_Performance</th>\n",
       "      <td>-0.006827</td>\n",
       "      <td>-0.005765</td>\n",
       "      <td>-0.002958</td>\n",
       "      <td>1.000000</td>\n",
       "      <td>0.011774</td>\n",
       "      <td>-0.019733</td>\n",
       "      <td>-0.013148</td>\n",
       "    </tr>\n",
       "    <tr>\n",
       "      <th>Extra_Curricular_Score</th>\n",
       "      <td>-0.003458</td>\n",
       "      <td>0.009326</td>\n",
       "      <td>0.011441</td>\n",
       "      <td>0.011774</td>\n",
       "      <td>1.000000</td>\n",
       "      <td>0.003769</td>\n",
       "      <td>0.008122</td>\n",
       "    </tr>\n",
       "    <tr>\n",
       "      <th>Communication_Skills</th>\n",
       "      <td>-0.010896</td>\n",
       "      <td>-0.017269</td>\n",
       "      <td>-0.018242</td>\n",
       "      <td>-0.019733</td>\n",
       "      <td>0.003769</td>\n",
       "      <td>1.000000</td>\n",
       "      <td>-0.004486</td>\n",
       "    </tr>\n",
       "    <tr>\n",
       "      <th>Projects_Completed</th>\n",
       "      <td>0.014538</td>\n",
       "      <td>0.018434</td>\n",
       "      <td>0.020872</td>\n",
       "      <td>-0.013148</td>\n",
       "      <td>0.008122</td>\n",
       "      <td>-0.004486</td>\n",
       "      <td>1.000000</td>\n",
       "    </tr>\n",
       "  </tbody>\n",
       "</table>\n",
       "</div>"
      ],
      "text/plain": [
       "                              IQ  Prev_Sem_Result      CGPA  \\\n",
       "IQ                      1.000000        -0.002640 -0.002859   \n",
       "Prev_Sem_Result        -0.002640         1.000000  0.980768   \n",
       "CGPA                   -0.002859         0.980768  1.000000   \n",
       "Academic_Performance   -0.006827        -0.005765 -0.002958   \n",
       "Extra_Curricular_Score -0.003458         0.009326  0.011441   \n",
       "Communication_Skills   -0.010896        -0.017269 -0.018242   \n",
       "Projects_Completed      0.014538         0.018434  0.020872   \n",
       "\n",
       "                        Academic_Performance  Extra_Curricular_Score  \\\n",
       "IQ                                 -0.006827               -0.003458   \n",
       "Prev_Sem_Result                    -0.005765                0.009326   \n",
       "CGPA                               -0.002958                0.011441   \n",
       "Academic_Performance                1.000000                0.011774   \n",
       "Extra_Curricular_Score              0.011774                1.000000   \n",
       "Communication_Skills               -0.019733                0.003769   \n",
       "Projects_Completed                 -0.013148                0.008122   \n",
       "\n",
       "                        Communication_Skills  Projects_Completed  \n",
       "IQ                                 -0.010896            0.014538  \n",
       "Prev_Sem_Result                    -0.017269            0.018434  \n",
       "CGPA                               -0.018242            0.020872  \n",
       "Academic_Performance               -0.019733           -0.013148  \n",
       "Extra_Curricular_Score              0.003769            0.008122  \n",
       "Communication_Skills                1.000000           -0.004486  \n",
       "Projects_Completed                 -0.004486            1.000000  "
      ]
     },
     "execution_count": 21,
     "metadata": {},
     "output_type": "execute_result"
    }
   ],
   "source": [
    "df.corr(numeric_only=True)"
   ]
  },
  {
   "cell_type": "code",
   "execution_count": 23,
   "id": "7d2f0109-a357-4c45-8850-f5c40147d1e0",
   "metadata": {},
   "outputs": [
    {
     "data": {
      "text/plain": [
       "IQ                       -0.002859\n",
       "Prev_Sem_Result           0.980768\n",
       "CGPA                      1.000000\n",
       "Academic_Performance     -0.002958\n",
       "Extra_Curricular_Score    0.011441\n",
       "Communication_Skills     -0.018242\n",
       "Projects_Completed        0.020872\n",
       "Name: CGPA, dtype: float64"
      ]
     },
     "execution_count": 23,
     "metadata": {},
     "output_type": "execute_result"
    }
   ],
   "source": [
    "df.corr(numeric_only=True)['CGPA']"
   ]
  },
  {
   "cell_type": "code",
   "execution_count": 24,
   "id": "df4834ae-bf12-4ac3-b234-417facef4308",
   "metadata": {},
   "outputs": [
    {
     "data": {
      "text/plain": [
       "IQ                        0.014538\n",
       "Prev_Sem_Result           0.018434\n",
       "CGPA                      0.020872\n",
       "Academic_Performance     -0.013148\n",
       "Extra_Curricular_Score    0.008122\n",
       "Communication_Skills     -0.004486\n",
       "Projects_Completed        1.000000\n",
       "Name: Projects_Completed, dtype: float64"
      ]
     },
     "execution_count": 24,
     "metadata": {},
     "output_type": "execute_result"
    }
   ],
   "source": [
    "df.corr(numeric_only=True)['Projects_Completed']"
   ]
  },
  {
   "cell_type": "code",
   "execution_count": 25,
   "id": "f081ef4a-78d3-4e31-8386-c5066657f49e",
   "metadata": {},
   "outputs": [
    {
     "data": {
      "text/plain": [
       "IQ                        1.000000\n",
       "Prev_Sem_Result          -0.002640\n",
       "CGPA                     -0.002859\n",
       "Academic_Performance     -0.006827\n",
       "Extra_Curricular_Score   -0.003458\n",
       "Communication_Skills     -0.010896\n",
       "Projects_Completed        0.014538\n",
       "Name: IQ, dtype: float64"
      ]
     },
     "execution_count": 25,
     "metadata": {},
     "output_type": "execute_result"
    }
   ],
   "source": [
    "df.corr(numeric_only=True)['IQ']"
   ]
  }
 ],
 "metadata": {
  "kernelspec": {
   "display_name": "Python (python_env)",
   "language": "python",
   "name": "python_env"
  },
  "language_info": {
   "codemirror_mode": {
    "name": "ipython",
    "version": 3
   },
   "file_extension": ".py",
   "mimetype": "text/x-python",
   "name": "python",
   "nbconvert_exporter": "python",
   "pygments_lexer": "ipython3",
   "version": "3.10.16"
  }
 },
 "nbformat": 4,
 "nbformat_minor": 5
}
