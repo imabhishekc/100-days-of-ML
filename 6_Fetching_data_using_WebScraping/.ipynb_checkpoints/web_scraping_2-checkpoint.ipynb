{
 "cells": [
  {
   "cell_type": "code",
   "execution_count": 35,
   "id": "ba5701f1-3c9d-4479-8bba-5258a3e76740",
   "metadata": {},
   "outputs": [],
   "source": [
    "import pandas as pd\n",
    "import requests\n",
    "from bs4 import BeautifulSoup"
   ]
  },
  {
   "cell_type": "code",
   "execution_count": 22,
   "id": "e6c3341d-9528-4c9a-acdc-ec98b4576a83",
   "metadata": {},
   "outputs": [],
   "source": [
    "base_url = 'http://books.toscrape.com/catalogue/page-{}.html'"
   ]
  },
  {
   "cell_type": "code",
   "execution_count": 23,
   "id": "da106209-06fe-4fbe-a1c1-b0219a8e5331",
   "metadata": {},
   "outputs": [
    {
     "name": "stdout",
     "output_type": "stream",
     "text": [
      "Scraping page 1...\n",
      "Found 20 books on page 1\n",
      "Scraping page 2...\n",
      "Found 20 books on page 2\n"
     ]
    }
   ],
   "source": [
    "for page in range(1, 3):\n",
    "    print(f\"Scraping page {page}...\")\n",
    "    url = base_url.format(page)\n",
    "    response = requests.get(url)\n",
    "    response.encoding = 'utf-8'\n",
    "    soup = BeautifulSoup(response.text, 'html.parser')\n",
    "\n",
    "    articles = soup.find_all('article', class_='product_pod')\n",
    "    print(f\"Found {len(articles)} books on page {page}\")"
   ]
  },
  {
   "cell_type": "code",
   "execution_count": 24,
   "id": "a88b655c-1ddb-4053-b675-2fe17e0df6db",
   "metadata": {},
   "outputs": [
    {
     "name": "stdout",
     "output_type": "stream",
     "text": [
      "Scraping page 1...\n",
      "Scraping page 2...\n"
     ]
    }
   ],
   "source": [
    "titles = []\n",
    "\n",
    "for page in range(1, 3):\n",
    "    print(f\"Scraping page {page}...\")\n",
    "    url = base_url.format(page)\n",
    "    response = requests.get(url)\n",
    "    response.encoding = 'utf-8'\n",
    "    soup = BeautifulSoup(response.text, 'html.parser')\n",
    "\n",
    "    for h3 in soup.find_all('h3'):\n",
    "        full_title = h3.find('a')['title']\n",
    "        titles.append(full_title)"
   ]
  },
  {
   "cell_type": "code",
   "execution_count": 25,
   "id": "3a81e9ba-4423-44c7-b31f-f74f862a7ff9",
   "metadata": {},
   "outputs": [
    {
     "name": "stdout",
     "output_type": "stream",
     "text": [
      "A Light in the Attic\n",
      "Tipping the Velvet\n",
      "Soumission\n",
      "Sharp Objects\n",
      "Sapiens: A Brief History of Humankind\n",
      "The Requiem Red\n",
      "The Dirty Little Secrets of Getting Your Dream Job\n",
      "The Coming Woman: A Novel Based on the Life of the Infamous Feminist, Victoria Woodhull\n",
      "The Boys in the Boat: Nine Americans and Their Epic Quest for Gold at the 1936 Berlin Olympics\n",
      "The Black Maria\n",
      "Starving Hearts (Triangular Trade Trilogy, #1)\n",
      "Shakespeare's Sonnets\n",
      "Set Me Free\n",
      "Scott Pilgrim's Precious Little Life (Scott Pilgrim #1)\n",
      "Rip it Up and Start Again\n",
      "Our Band Could Be Your Life: Scenes from the American Indie Underground, 1981-1991\n",
      "Olio\n",
      "Mesaerion: The Best Science Fiction Stories 1800-1849\n",
      "Libertarianism for Beginners\n",
      "It's Only the Himalayas\n",
      "In Her Wake\n",
      "How Music Works\n",
      "Foolproof Preserving: A Guide to Small Batch Jams, Jellies, Pickles, Condiments, and More: A Foolproof Guide to Making Small Batch Jams, Jellies, Pickles, Condiments, and More\n",
      "Chase Me (Paris Nights #2)\n",
      "Black Dust\n",
      "Birdsong: A Story in Pictures\n",
      "America's Cradle of Quarterbacks: Western Pennsylvania's Football Factory from Johnny Unitas to Joe Montana\n",
      "Aladdin and His Wonderful Lamp\n",
      "Worlds Elsewhere: Journeys Around Shakespeare’s Globe\n",
      "Wall and Piece\n",
      "The Four Agreements: A Practical Guide to Personal Freedom\n",
      "The Five Love Languages: How to Express Heartfelt Commitment to Your Mate\n",
      "The Elephant Tree\n",
      "The Bear and the Piano\n",
      "Sophie's World\n",
      "Penny Maybe\n",
      "Maude (1883-1993):She Grew Up with the country\n",
      "In a Dark, Dark Wood\n",
      "Behind Closed Doors\n",
      "You can't bury them all: Poems\n",
      "\n",
      "Total titles scraped: 40\n"
     ]
    }
   ],
   "source": [
    "for title in titles[:]:\n",
    "    print(title)\n",
    "\n",
    "print(f\"\\nTotal titles scraped: {len(titles)}\")"
   ]
  },
  {
   "cell_type": "code",
   "execution_count": 26,
   "id": "aa4c1aa1-62be-40fc-81fc-12724eba6a10",
   "metadata": {},
   "outputs": [
    {
     "name": "stdout",
     "output_type": "stream",
     "text": [
      "Scraping prices from Page 1...\n",
      "Scraping prices from Page 2...\n"
     ]
    }
   ],
   "source": [
    "prices = []\n",
    "\n",
    "for page in range(1, 3):\n",
    "    print(f\"Scraping prices from Page {page}...\")\n",
    "    url = base_url.format(page)\n",
    "    response = requests.get(url)\n",
    "    response.encoding = 'utf-8'\n",
    "    soup = BeautifulSoup(response.text, 'html.parser')\n",
    "\n",
    "    for div in soup.find_all('div', class_='product_price'):\n",
    "        price = div.find('p', class_='price_color').text.strip()\n",
    "        prices.append(price)"
   ]
  },
  {
   "cell_type": "code",
   "execution_count": 27,
   "id": "f78d9e59-1b3a-4c3d-8148-a9484c8cd475",
   "metadata": {},
   "outputs": [
    {
     "name": "stdout",
     "output_type": "stream",
     "text": [
      "£51.77\n",
      "£53.74\n",
      "£50.10\n",
      "£47.82\n",
      "£54.23\n",
      "£22.65\n",
      "£33.34\n",
      "£17.93\n",
      "£22.60\n",
      "£52.15\n",
      "£13.99\n",
      "£20.66\n",
      "£17.46\n",
      "£52.29\n",
      "£35.02\n",
      "£57.25\n",
      "£23.88\n",
      "£37.59\n",
      "£51.33\n",
      "£45.17\n",
      "£12.84\n",
      "£37.32\n",
      "£30.52\n",
      "£25.27\n",
      "£34.53\n",
      "£54.64\n",
      "£22.50\n",
      "£53.13\n",
      "£40.30\n",
      "£44.18\n",
      "£17.66\n",
      "£31.05\n",
      "£23.82\n",
      "£36.89\n",
      "£15.94\n",
      "£33.29\n",
      "£18.02\n",
      "£19.63\n",
      "£52.22\n",
      "£33.63\n"
     ]
    }
   ],
   "source": [
    "for price in prices[:]:\n",
    "    print(price)"
   ]
  },
  {
   "cell_type": "code",
   "execution_count": 28,
   "id": "b74325c0-5cb1-4da0-a0bd-7c6926da550b",
   "metadata": {},
   "outputs": [
    {
     "name": "stdout",
     "output_type": "stream",
     "text": [
      "Scraping prices from Page 1...\n",
      "Scraping prices from Page 2...\n"
     ]
    }
   ],
   "source": [
    "ratings = []\n",
    "\n",
    "for page in range(1, 3):\n",
    "    print(f\"Scraping prices from Page {page}...\")\n",
    "    url = base_url.format(page)\n",
    "    response = requests.get(url)\n",
    "    response.encoding = 'utf-8'\n",
    "    soup = BeautifulSoup(response.text, 'html.parser')\n",
    "\n",
    "    for article in soup.find_all('article', class_='product_pod'):\n",
    "        rating_tag = article.find('p', class_='star-rating')\n",
    "        rating = rating_tag['class'][1]\n",
    "        ratings.append(rating)"
   ]
  },
  {
   "cell_type": "code",
   "execution_count": 29,
   "id": "70037f49-d037-4844-8851-4165b0d38968",
   "metadata": {},
   "outputs": [
    {
     "name": "stdout",
     "output_type": "stream",
     "text": [
      "Three\n",
      "One\n",
      "One\n",
      "Four\n",
      "Five\n",
      "One\n",
      "Four\n",
      "Three\n",
      "Four\n",
      "One\n",
      "Two\n",
      "Four\n",
      "Five\n",
      "Five\n",
      "Five\n",
      "Three\n",
      "One\n",
      "One\n",
      "Two\n",
      "Two\n",
      "One\n",
      "Two\n",
      "Three\n",
      "Five\n",
      "Five\n",
      "Three\n",
      "Three\n",
      "Three\n",
      "Five\n",
      "Four\n",
      "Five\n",
      "Three\n",
      "Five\n",
      "One\n",
      "Five\n",
      "Three\n",
      "Two\n",
      "One\n",
      "Four\n",
      "Two\n"
     ]
    }
   ],
   "source": [
    "for rate in ratings[:]:\n",
    "    print(rate)"
   ]
  },
  {
   "cell_type": "code",
   "execution_count": 30,
   "id": "f339f56b-bee8-420d-9de9-dd8af576b022",
   "metadata": {},
   "outputs": [
    {
     "name": "stdout",
     "output_type": "stream",
     "text": [
      "\n",
      "Total ratings scraped: 40\n"
     ]
    }
   ],
   "source": [
    "print(f\"\\nTotal ratings scraped: {len(ratings)}\")"
   ]
  },
  {
   "cell_type": "code",
   "execution_count": 31,
   "id": "9b96518f-b0b1-4dc6-a958-108c3ca1a856",
   "metadata": {},
   "outputs": [
    {
     "name": "stdout",
     "output_type": "stream",
     "text": [
      "Scraping genres from Page 1...\n",
      "Scraping genres from Page 2...\n",
      "Poetry\n",
      "Historical Fiction\n",
      "Fiction\n",
      "Mystery\n",
      "History\n",
      "Young Adult\n",
      "Business\n",
      "Default\n",
      "Default\n",
      "Poetry\n",
      "\n",
      "Total genres scraped: 40\n"
     ]
    }
   ],
   "source": [
    "genres = []\n",
    "\n",
    "base_url = 'http://books.toscrape.com/catalogue/page-{}.html'\n",
    "book_base_url = 'http://books.toscrape.com/catalogue/'\n",
    "\n",
    "for page in range(1, 3):\n",
    "    print(f\"Scraping genres from Page {page}...\")\n",
    "    url = base_url.format(page)\n",
    "    response = requests.get(url)\n",
    "    response.encoding = 'utf-8'\n",
    "    soup = BeautifulSoup(response.text, 'html.parser')\n",
    "\n",
    "    for article in soup.find_all('article', class_='product_pod'):\n",
    "        # Get the relative link to the book detail page\n",
    "        rel_url = article.find('h3').find('a')['href']\n",
    "        book_url = book_base_url + rel_url.replace('../../../', '')\n",
    "\n",
    "        # Visit the book detail page\n",
    "        book_resp = requests.get(book_url)\n",
    "        book_resp.encoding = 'utf-8'\n",
    "        book_soup = BeautifulSoup(book_resp.text, 'html.parser')\n",
    "\n",
    "        # Find the breadcrumb and extract genre\n",
    "        breadcrumb = book_soup.find('ul', class_='breadcrumb')\n",
    "        if breadcrumb:\n",
    "            breadcrumb_items = breadcrumb.find_all('li')\n",
    "            if len(breadcrumb_items) >= 3:\n",
    "                genre = breadcrumb_items[2].text.strip()\n",
    "            else:\n",
    "                genre = \"Unknown\"\n",
    "        else:\n",
    "            genre = \"Unknown\"\n",
    "\n",
    "        genres.append(genre)\n",
    "\n",
    "for genre in genres[:]:\n",
    "    print(genre)\n",
    "\n",
    "print(f\"\\nTotal genres scraped: {len(genres)}\")"
   ]
  },
  {
   "cell_type": "code",
   "execution_count": 32,
   "id": "075373f4-eb7d-4264-ab28-48529cbe70ba",
   "metadata": {},
   "outputs": [],
   "source": [
    "# Since it's making 1000 HTTP requests so we stop it right now!"
   ]
  },
  {
   "cell_type": "code",
   "execution_count": 33,
   "id": "7b9dd82b-feae-40f1-ad92-fb5050723525",
   "metadata": {},
   "outputs": [
    {
     "name": "stdout",
     "output_type": "stream",
     "text": [
      "40 40 40 40\n"
     ]
    }
   ],
   "source": [
    "print(len(titles), len(prices), len(ratings), len(genres))"
   ]
  },
  {
   "cell_type": "code",
   "execution_count": 36,
   "id": "6befd0d2-4a8a-4d98-ad08-6f407ca220e4",
   "metadata": {},
   "outputs": [],
   "source": [
    "# Creating a Pandas Dataframe\n",
    "df = pd.DataFrame({\n",
    "    'Title': titles,\n",
    "    'Price': prices,\n",
    "    'Rating': ratings,\n",
    "    'Genre': genres,\n",
    "})"
   ]
  },
  {
   "cell_type": "code",
   "execution_count": 37,
   "id": "81da795c-2ae9-4bc0-a51e-8dea3e3e90af",
   "metadata": {},
   "outputs": [
    {
     "data": {
      "text/html": [
       "<div>\n",
       "<style scoped>\n",
       "    .dataframe tbody tr th:only-of-type {\n",
       "        vertical-align: middle;\n",
       "    }\n",
       "\n",
       "    .dataframe tbody tr th {\n",
       "        vertical-align: top;\n",
       "    }\n",
       "\n",
       "    .dataframe thead th {\n",
       "        text-align: right;\n",
       "    }\n",
       "</style>\n",
       "<table border=\"1\" class=\"dataframe\">\n",
       "  <thead>\n",
       "    <tr style=\"text-align: right;\">\n",
       "      <th></th>\n",
       "      <th>Title</th>\n",
       "      <th>Price</th>\n",
       "      <th>Rating</th>\n",
       "      <th>Genre</th>\n",
       "    </tr>\n",
       "  </thead>\n",
       "  <tbody>\n",
       "    <tr>\n",
       "      <th>0</th>\n",
       "      <td>A Light in the Attic</td>\n",
       "      <td>£51.77</td>\n",
       "      <td>Three</td>\n",
       "      <td>Poetry</td>\n",
       "    </tr>\n",
       "    <tr>\n",
       "      <th>1</th>\n",
       "      <td>Tipping the Velvet</td>\n",
       "      <td>£53.74</td>\n",
       "      <td>One</td>\n",
       "      <td>Historical Fiction</td>\n",
       "    </tr>\n",
       "    <tr>\n",
       "      <th>2</th>\n",
       "      <td>Soumission</td>\n",
       "      <td>£50.10</td>\n",
       "      <td>One</td>\n",
       "      <td>Fiction</td>\n",
       "    </tr>\n",
       "    <tr>\n",
       "      <th>3</th>\n",
       "      <td>Sharp Objects</td>\n",
       "      <td>£47.82</td>\n",
       "      <td>Four</td>\n",
       "      <td>Mystery</td>\n",
       "    </tr>\n",
       "    <tr>\n",
       "      <th>4</th>\n",
       "      <td>Sapiens: A Brief History of Humankind</td>\n",
       "      <td>£54.23</td>\n",
       "      <td>Five</td>\n",
       "      <td>History</td>\n",
       "    </tr>\n",
       "  </tbody>\n",
       "</table>\n",
       "</div>"
      ],
      "text/plain": [
       "                                   Title   Price Rating               Genre\n",
       "0                   A Light in the Attic  £51.77  Three              Poetry\n",
       "1                     Tipping the Velvet  £53.74    One  Historical Fiction\n",
       "2                             Soumission  £50.10    One             Fiction\n",
       "3                          Sharp Objects  £47.82   Four             Mystery\n",
       "4  Sapiens: A Brief History of Humankind  £54.23   Five             History"
      ]
     },
     "execution_count": 37,
     "metadata": {},
     "output_type": "execute_result"
    }
   ],
   "source": [
    "df.head()"
   ]
  },
  {
   "cell_type": "code",
   "execution_count": 38,
   "id": "40799e7c-b21f-4184-888b-e3b7f3615725",
   "metadata": {},
   "outputs": [],
   "source": [
    "df.to_csv('books_scraped_demo.csv', index=False)"
   ]
  },
  {
   "cell_type": "code",
   "execution_count": 39,
   "id": "cb1b98dc-cfea-4c38-ab5c-efcb655ac4d8",
   "metadata": {},
   "outputs": [],
   "source": [
    "df['Price'] = df['Price'].str.replace('£', '').astype(float)"
   ]
  },
  {
   "cell_type": "code",
   "execution_count": 41,
   "id": "39ebd2c8-29a4-4280-8c24-4e604a3146d9",
   "metadata": {},
   "outputs": [],
   "source": [
    "rating_map = {\n",
    "    'One': 1,\n",
    "    'Two': 2,\n",
    "    'Three': 3,\n",
    "    'Four': 4,\n",
    "    'Five': 5,\n",
    "}\n",
    "df['Rating'] = df['Rating'].map(rating_map)"
   ]
  },
  {
   "cell_type": "code",
   "execution_count": 42,
   "id": "1669c553-c202-4886-b0e3-a14035269189",
   "metadata": {},
   "outputs": [],
   "source": [
    "df.to_csv('books_scraped_demo_clean_data.csv', index=False)"
   ]
  }
 ],
 "metadata": {
  "kernelspec": {
   "display_name": "Python (python_env)",
   "language": "python",
   "name": "python_env"
  },
  "language_info": {
   "codemirror_mode": {
    "name": "ipython",
    "version": 3
   },
   "file_extension": ".py",
   "mimetype": "text/x-python",
   "name": "python",
   "nbconvert_exporter": "python",
   "pygments_lexer": "ipython3",
   "version": "3.10.16"
  }
 },
 "nbformat": 4,
 "nbformat_minor": 5
}
